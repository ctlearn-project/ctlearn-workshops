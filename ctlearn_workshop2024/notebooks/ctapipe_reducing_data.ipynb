{
 "cells": [
  {
   "cell_type": "code",
   "execution_count": 1,
   "id": "d86229d1-d81c-44c8-9fdb-214ac6fecb72",
   "metadata": {},
   "outputs": [
    {
     "name": "stdout",
     "output_type": "stream",
     "text": [
      "/Users/tjarkmiener/Desktop/ctlearn_workshop/ctlearn_workshop2024/notebooks\n"
     ]
    }
   ],
   "source": [
    "! pwd"
   ]
  },
  {
   "cell_type": "code",
   "execution_count": 2,
   "id": "db6c1486-0427-47a6-8d6d-17af2a3c4dd9",
   "metadata": {},
   "outputs": [
    {
     "name": "stdout",
     "output_type": "stream",
     "text": [
      "ctapipe                   0.20.0                   pypi_0    pypi\n"
     ]
    }
   ],
   "source": [
    "! conda list | grep ctapipe"
   ]
  },
  {
   "cell_type": "code",
   "execution_count": 3,
   "id": "d543472c-79b5-4549-84a0-976365a2c964",
   "metadata": {},
   "outputs": [
    {
     "name": "stdout",
     "output_type": "stream",
     "text": [
      "435M\t../data/simtel/gamma-diffuse/simtel_corsika_theta_16.087_az_108.090_run1.simtel.gz\n",
      "426M\t../data/simtel/gamma-diffuse/simtel_corsika_theta_16.087_az_108.090_run2.simtel.gz\n",
      "449M\t../data/simtel/gamma-diffuse/simtel_corsika_theta_16.087_az_108.090_run3.simtel.gz\n",
      "452M\t../data/simtel/gamma-diffuse/simtel_corsika_theta_16.087_az_108.090_run4.simtel.gz\n",
      " 81M\t../data/simtel/proton/simtel_corsika_theta_16.087_az_108.090_run1.simtel.gz\n",
      " 71M\t../data/simtel/proton/simtel_corsika_theta_16.087_az_108.090_run2.simtel.gz\n",
      " 68M\t../data/simtel/proton/simtel_corsika_theta_16.087_az_108.090_run3.simtel.gz\n",
      " 74M\t../data/simtel/proton/simtel_corsika_theta_16.087_az_108.090_run4.simtel.gz\n",
      " 79M\t../data/simtel/proton/simtel_corsika_theta_16.087_az_108.090_run5.simtel.gz\n",
      " 73M\t../data/simtel/proton/simtel_corsika_theta_16.087_az_108.090_run6.simtel.gz\n"
     ]
    }
   ],
   "source": [
    "! du -h ../data/simtel/*/*"
   ]
  },
  {
   "cell_type": "code",
   "execution_count": 4,
   "id": "4bbada97-1734-43ad-a810-bba9a51fe0f2",
   "metadata": {},
   "outputs": [
    {
     "name": "stdout",
     "output_type": "stream",
     "text": [
      "Inputfile: '/Users/tjarkmiener/Desktop/ctlearn_workshop/ctlearn_workshop2024/data/simtel/gamma-diffuse/simtel_corsika_theta_16.087_az_108.090_run1.simtel.gz'\n",
      "Outputfile: '../data/R1DL1//gamma_theta_16.087_az_108.090_run1.r1.dl1.h5'\n",
      "\u001b[0mInputfile: '/Users/tjarkmiener/Desktop/ctlearn_workshop/ctlearn_workshop2024/data/simtel/gamma-diffuse/simtel_corsika_theta_16.087_az_108.090_run2.simtel.gz'\n",
      "Outputfile: '../data/R1DL1//gamma_theta_16.087_az_108.090_run2.r1.dl1.h5'\n",
      "\u001b[0mInputfile: '/Users/tjarkmiener/Desktop/ctlearn_workshop/ctlearn_workshop2024/data/simtel/gamma-diffuse/simtel_corsika_theta_16.087_az_108.090_run3.simtel.gz'\n",
      "Outputfile: '../data/R1DL1//gamma_theta_16.087_az_108.090_run3.r1.dl1.h5'\n",
      "\u001b[0mInputfile: '/Users/tjarkmiener/Desktop/ctlearn_workshop/ctlearn_workshop2024/data/simtel/gamma-diffuse/simtel_corsika_theta_16.087_az_108.090_run4.simtel.gz'\n",
      "Outputfile: '../data/R1DL1//gamma_theta_16.087_az_108.090_run4.r1.dl1.h5'\n",
      "\u001b[0m"
     ]
    }
   ],
   "source": [
    "! python ../scripts/run_reduction.py \\\n",
    "--input_dir ../data/simtel/gamma-diffuse/ \\\n",
    "--type gamma \\\n",
    "--config ../configs/ctapipe_standard_LST1_config.json \\\n",
    "--output_dir ../data/R1DL1/"
   ]
  },
  {
   "cell_type": "code",
   "execution_count": 5,
   "id": "a663df3e-6ca3-4311-b4b1-a2131732a27f",
   "metadata": {},
   "outputs": [
    {
     "name": "stdout",
     "output_type": "stream",
     "text": [
      "Inputfile: '/Users/tjarkmiener/Desktop/ctlearn_workshop/ctlearn_workshop2024/data/simtel/proton/simtel_corsika_theta_16.087_az_108.090_run1.simtel.gz'\n",
      "Outputfile: '../data/R1DL1//proton_theta_16.087_az_108.090_run1.r1.dl1.h5'\n",
      "\u001b[0mInputfile: '/Users/tjarkmiener/Desktop/ctlearn_workshop/ctlearn_workshop2024/data/simtel/proton/simtel_corsika_theta_16.087_az_108.090_run2.simtel.gz'\n",
      "Outputfile: '../data/R1DL1//proton_theta_16.087_az_108.090_run2.r1.dl1.h5'\n",
      "\u001b[0mInputfile: '/Users/tjarkmiener/Desktop/ctlearn_workshop/ctlearn_workshop2024/data/simtel/proton/simtel_corsika_theta_16.087_az_108.090_run3.simtel.gz'\n",
      "Outputfile: '../data/R1DL1//proton_theta_16.087_az_108.090_run3.r1.dl1.h5'\n",
      "\u001b[0mInputfile: '/Users/tjarkmiener/Desktop/ctlearn_workshop/ctlearn_workshop2024/data/simtel/proton/simtel_corsika_theta_16.087_az_108.090_run4.simtel.gz'\n",
      "Outputfile: '../data/R1DL1//proton_theta_16.087_az_108.090_run4.r1.dl1.h5'\n",
      "\u001b[0mInputfile: '/Users/tjarkmiener/Desktop/ctlearn_workshop/ctlearn_workshop2024/data/simtel/proton/simtel_corsika_theta_16.087_az_108.090_run5.simtel.gz'\n",
      "Outputfile: '../data/R1DL1//proton_theta_16.087_az_108.090_run5.r1.dl1.h5'\n",
      "\u001b[0mInputfile: '/Users/tjarkmiener/Desktop/ctlearn_workshop/ctlearn_workshop2024/data/simtel/proton/simtel_corsika_theta_16.087_az_108.090_run6.simtel.gz'\n",
      "Outputfile: '../data/R1DL1//proton_theta_16.087_az_108.090_run6.r1.dl1.h5'\n",
      "\u001b[0m"
     ]
    }
   ],
   "source": [
    "! python ../scripts/run_reduction.py \\\n",
    "--input_dir ../data/simtel/proton/ \\\n",
    "--type proton \\\n",
    "--config ../configs/ctapipe_standard_LST1_config.json \\\n",
    "--output_dir ../data/R1DL1/"
   ]
  },
  {
   "cell_type": "code",
   "execution_count": 6,
   "id": "175bd586-1a14-4d40-9e9d-6e2a0a44095d",
   "metadata": {},
   "outputs": [
    {
     "name": "stdout",
     "output_type": "stream",
     "text": [
      "641M\t../data/R1DL1/gamma_theta_16.087_az_108.090_run1.r1.dl1.h5\n",
      "625M\t../data/R1DL1/gamma_theta_16.087_az_108.090_run2.r1.dl1.h5\n",
      "657M\t../data/R1DL1/gamma_theta_16.087_az_108.090_run3.r1.dl1.h5\n",
      "657M\t../data/R1DL1/gamma_theta_16.087_az_108.090_run4.r1.dl1.h5\n",
      " 96M\t../data/R1DL1/proton_theta_16.087_az_108.090_run1.r1.dl1.h5\n",
      " 80M\t../data/R1DL1/proton_theta_16.087_az_108.090_run2.r1.dl1.h5\n",
      " 80M\t../data/R1DL1/proton_theta_16.087_az_108.090_run3.r1.dl1.h5\n",
      " 80M\t../data/R1DL1/proton_theta_16.087_az_108.090_run4.r1.dl1.h5\n",
      " 96M\t../data/R1DL1/proton_theta_16.087_az_108.090_run5.r1.dl1.h5\n",
      " 80M\t../data/R1DL1/proton_theta_16.087_az_108.090_run6.r1.dl1.h5\n"
     ]
    }
   ],
   "source": [
    "! du -h ../data/R1DL1/*"
   ]
  },
  {
   "cell_type": "code",
   "execution_count": 7,
   "id": "1f3e4785-9166-4dd7-801e-81ba3a69e7ee",
   "metadata": {},
   "outputs": [
    {
     "name": "stdout",
     "output_type": "stream",
     "text": [
      "Outputfile: '../data/R1DL1_merged//gamma_theta_16.087_az_108.090_runs1-2.r1.dl1.h5'\n",
      "\u001b[0mOutputfile: '../data/R1DL1_merged//gamma_theta_16.087_az_108.090_runs3-4.r1.dl1.h5'\n",
      "\u001b[0m"
     ]
    }
   ],
   "source": [
    "! python ../scripts/run_merger.py \\\n",
    "--input_dir ../data/R1DL1/ \\\n",
    "--pattern \"gamma*\" \\\n",
    "--type gamma \\\n",
    "--num_outputfiles 2 \\\n",
    "--output_dir ../data/R1DL1_merged/"
   ]
  },
  {
   "cell_type": "code",
   "execution_count": 8,
   "id": "9175024a-239b-4b19-a9b0-242fc0fe0826",
   "metadata": {},
   "outputs": [
    {
     "name": "stdout",
     "output_type": "stream",
     "text": [
      "Outputfile: '../data/R1DL1_merged//proton_theta_16.087_az_108.090_runs1-2.r1.dl1.h5'\n",
      "\u001b[0mOutputfile: '../data/R1DL1_merged//proton_theta_16.087_az_108.090_runs3-4.r1.dl1.h5'\n",
      "\u001b[0mOutputfile: '../data/R1DL1_merged//proton_theta_16.087_az_108.090_runs5-6.r1.dl1.h5'\n",
      "\u001b[0m"
     ]
    }
   ],
   "source": [
    "! python ../scripts/run_merger.py \\\n",
    "--input_dir ../data/R1DL1/ \\\n",
    "--pattern \"proton*\" \\\n",
    "--type proton \\\n",
    "--num_outputfiles 3 \\\n",
    "--output_dir ../data/R1DL1_merged/"
   ]
  },
  {
   "cell_type": "code",
   "execution_count": 9,
   "id": "7fbf0314-a8f0-40f8-9778-0a5da41776fe",
   "metadata": {},
   "outputs": [
    {
     "name": "stdout",
     "output_type": "stream",
     "text": [
      "1.2G\t../data/R1DL1_merged/gamma_theta_16.087_az_108.090_runs1-2.r1.dl1.h5\n",
      "1.3G\t../data/R1DL1_merged/gamma_theta_16.087_az_108.090_runs3-4.r1.dl1.h5\n",
      "176M\t../data/R1DL1_merged/proton_theta_16.087_az_108.090_runs1-2.r1.dl1.h5\n",
      "160M\t../data/R1DL1_merged/proton_theta_16.087_az_108.090_runs3-4.r1.dl1.h5\n",
      "160M\t../data/R1DL1_merged/proton_theta_16.087_az_108.090_runs5-6.r1.dl1.h5\n",
      "1.3G\t../data/R1DL1_merged/test/gamma-diffuse\n",
      "238M\t../data/R1DL1_merged/test/proton\n",
      "1.5G\t../data/R1DL1_merged/test\n"
     ]
    }
   ],
   "source": [
    "! du -h ../data/R1DL1_merged/*"
   ]
  },
  {
   "cell_type": "code",
   "execution_count": 10,
   "id": "654c28f8-3482-482d-a3b0-a6fe3a2ce29a",
   "metadata": {},
   "outputs": [],
   "source": [
    "#! vitables"
   ]
  },
  {
   "cell_type": "code",
   "execution_count": null,
   "id": "0ce3f683-8402-4abb-88bf-301d0d28751c",
   "metadata": {},
   "outputs": [],
   "source": []
  }
 ],
 "metadata": {
  "kernelspec": {
   "display_name": "Python 3 (ipykernel)",
   "language": "python",
   "name": "python3"
  },
  "language_info": {
   "codemirror_mode": {
    "name": "ipython",
    "version": 3
   },
   "file_extension": ".py",
   "mimetype": "text/x-python",
   "name": "python",
   "nbconvert_exporter": "python",
   "pygments_lexer": "ipython3",
   "version": "3.10.14"
  }
 },
 "nbformat": 4,
 "nbformat_minor": 5
}
